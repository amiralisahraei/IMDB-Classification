{
  "nbformat": 4,
  "nbformat_minor": 0,
  "metadata": {
    "colab": {
      "name": "Chollet_text_IMDB.ipynb",
      "provenance": [],
      "collapsed_sections": []
    },
    "kernelspec": {
      "name": "python3",
      "display_name": "Python 3"
    },
    "language_info": {
      "name": "python"
    },
    "accelerator": "GPU"
  },
  "cells": [
    {
      "cell_type": "markdown",
      "metadata": {
        "id": "zYkQLnLuklJC"
      },
      "source": [
        "One-hot encoding for words"
      ]
    },
    {
      "cell_type": "code",
      "metadata": {
        "id": "TC0bJ_8nZTWy"
      },
      "source": [
        "import numpy as np\n",
        "\n",
        "samples = [ 'the cat sat on the mat.','the dog ate my homework.']\n",
        "\n",
        "token_index = {}\n",
        "for sample in samples:\n",
        "  for word in sample.split():\n",
        "    if word not in token_index:\n",
        "      token_index[word] = len(token_index)+1"
      ],
      "execution_count": null,
      "outputs": []
    },
    {
      "cell_type": "code",
      "metadata": {
        "colab": {
          "base_uri": "https://localhost:8080/"
        },
        "id": "3GJ29Htxbbld",
        "outputId": "28fe7cf4-bd1e-472a-8be6-4ede059ab77d"
      },
      "source": [
        "token_index"
      ],
      "execution_count": null,
      "outputs": [
        {
          "output_type": "execute_result",
          "data": {
            "text/plain": [
              "{'ate': 7,\n",
              " 'cat': 2,\n",
              " 'dog': 6,\n",
              " 'homework.': 9,\n",
              " 'mat.': 5,\n",
              " 'my': 8,\n",
              " 'on': 4,\n",
              " 'sat': 3,\n",
              " 'the': 1}"
            ]
          },
          "metadata": {
            "tags": []
          },
          "execution_count": 75
        }
      ]
    },
    {
      "cell_type": "code",
      "metadata": {
        "colab": {
          "base_uri": "https://localhost:8080/"
        },
        "id": "WaXP6H8mdG6N",
        "outputId": "cdf8db4d-e99b-4eb7-8d9d-e0bd435ef18e"
      },
      "source": [
        "max_length = 7\n",
        "results = np.zeros(shape=(len(samples),max_length, max(token_index.values()) + 1))\n",
        "max_length , max(token_index.values())"
      ],
      "execution_count": null,
      "outputs": [
        {
          "output_type": "execute_result",
          "data": {
            "text/plain": [
              "(7, 9)"
            ]
          },
          "metadata": {
            "tags": []
          },
          "execution_count": 76
        }
      ]
    },
    {
      "cell_type": "code",
      "metadata": {
        "colab": {
          "base_uri": "https://localhost:8080/"
        },
        "id": "lniC2HfPdjQU",
        "outputId": "fb1a46b8-9906-4491-b17c-d39bb6ef538e"
      },
      "source": [
        "results"
      ],
      "execution_count": null,
      "outputs": [
        {
          "output_type": "execute_result",
          "data": {
            "text/plain": [
              "array([[[0., 0., 0., 0., 0., 0., 0., 0., 0., 0.],\n",
              "        [0., 0., 0., 0., 0., 0., 0., 0., 0., 0.],\n",
              "        [0., 0., 0., 0., 0., 0., 0., 0., 0., 0.],\n",
              "        [0., 0., 0., 0., 0., 0., 0., 0., 0., 0.],\n",
              "        [0., 0., 0., 0., 0., 0., 0., 0., 0., 0.],\n",
              "        [0., 0., 0., 0., 0., 0., 0., 0., 0., 0.],\n",
              "        [0., 0., 0., 0., 0., 0., 0., 0., 0., 0.]],\n",
              "\n",
              "       [[0., 0., 0., 0., 0., 0., 0., 0., 0., 0.],\n",
              "        [0., 0., 0., 0., 0., 0., 0., 0., 0., 0.],\n",
              "        [0., 0., 0., 0., 0., 0., 0., 0., 0., 0.],\n",
              "        [0., 0., 0., 0., 0., 0., 0., 0., 0., 0.],\n",
              "        [0., 0., 0., 0., 0., 0., 0., 0., 0., 0.],\n",
              "        [0., 0., 0., 0., 0., 0., 0., 0., 0., 0.],\n",
              "        [0., 0., 0., 0., 0., 0., 0., 0., 0., 0.]]])"
            ]
          },
          "metadata": {
            "tags": []
          },
          "execution_count": 77
        }
      ]
    },
    {
      "cell_type": "code",
      "metadata": {
        "id": "BRERYZZmhCN0"
      },
      "source": [
        "for i, sample in enumerate(samples):\n",
        "  for j, word in list(enumerate(sample.split()))[:max_length]:\n",
        "      index = token_index.get(word)\n",
        "      results[i, j, index] = 1."
      ],
      "execution_count": null,
      "outputs": []
    },
    {
      "cell_type": "code",
      "metadata": {
        "colab": {
          "base_uri": "https://localhost:8080/"
        },
        "id": "jmRCeAvZhKiB",
        "outputId": "a6e3ac55-8a0b-4edc-aa89-27d9cd7a7e98"
      },
      "source": [
        "results"
      ],
      "execution_count": null,
      "outputs": [
        {
          "output_type": "execute_result",
          "data": {
            "text/plain": [
              "array([[[0., 1., 0., 0., 0., 0., 0., 0., 0., 0.],\n",
              "        [0., 0., 1., 0., 0., 0., 0., 0., 0., 0.],\n",
              "        [0., 0., 0., 1., 0., 0., 0., 0., 0., 0.],\n",
              "        [0., 0., 0., 0., 1., 0., 0., 0., 0., 0.],\n",
              "        [0., 1., 0., 0., 0., 0., 0., 0., 0., 0.],\n",
              "        [0., 0., 0., 0., 0., 1., 0., 0., 0., 0.],\n",
              "        [0., 0., 0., 0., 0., 0., 0., 0., 0., 0.]],\n",
              "\n",
              "       [[0., 1., 0., 0., 0., 0., 0., 0., 0., 0.],\n",
              "        [0., 0., 0., 0., 0., 0., 1., 0., 0., 0.],\n",
              "        [0., 0., 0., 0., 0., 0., 0., 1., 0., 0.],\n",
              "        [0., 0., 0., 0., 0., 0., 0., 0., 1., 0.],\n",
              "        [0., 0., 0., 0., 0., 0., 0., 0., 0., 1.],\n",
              "        [0., 0., 0., 0., 0., 0., 0., 0., 0., 0.],\n",
              "        [0., 0., 0., 0., 0., 0., 0., 0., 0., 0.]]])"
            ]
          },
          "metadata": {
            "tags": []
          },
          "execution_count": 79
        }
      ]
    },
    {
      "cell_type": "markdown",
      "metadata": {
        "id": "f8D5hpKOksQh"
      },
      "source": [
        "One-hot encoding for characters"
      ]
    },
    {
      "cell_type": "code",
      "metadata": {
        "id": "4cphQCckifay"
      },
      "source": [
        "import numpy as np\n",
        "import string\n",
        "\n",
        "\n",
        "samples = [ '001e cat sat on the mat.','the dog ate my homework.']\n",
        "characters = string.printable\n",
        "token_index = dict(zip(characters,range(1,len(characters)+1)))\n",
        "results = np.zeros(shape=(len(samples),24, max(token_index.values()) + 1))\n",
        "for i, sample in enumerate(samples):\n",
        "  for j,character in enumerate(sample):\n",
        "     index = token_index.get(character)\n",
        "     results[i,j,index] = 1.\n"
      ],
      "execution_count": null,
      "outputs": []
    },
    {
      "cell_type": "code",
      "metadata": {
        "id": "fxA-OoRXsZ4G"
      },
      "source": [
        "d=zip(characters,range(1,len(characters)+1))\n",
        "list(d)"
      ],
      "execution_count": null,
      "outputs": []
    },
    {
      "cell_type": "code",
      "metadata": {
        "colab": {
          "base_uri": "https://localhost:8080/"
        },
        "id": "OwaAJgi5zkCS",
        "outputId": "269904bf-2723-43f5-a860-63b2532e84e3"
      },
      "source": [
        "results"
      ],
      "execution_count": null,
      "outputs": [
        {
          "output_type": "execute_result",
          "data": {
            "text/plain": [
              "array([[[0., 1., 0., ..., 0., 0., 0.],\n",
              "        [0., 1., 0., ..., 0., 0., 0.],\n",
              "        [0., 0., 1., ..., 0., 0., 0.],\n",
              "        ...,\n",
              "        [0., 0., 0., ..., 0., 0., 0.],\n",
              "        [0., 0., 0., ..., 0., 0., 0.],\n",
              "        [0., 0., 0., ..., 0., 0., 0.]],\n",
              "\n",
              "       [[0., 0., 0., ..., 0., 0., 0.],\n",
              "        [0., 0., 0., ..., 0., 0., 0.],\n",
              "        [0., 0., 0., ..., 0., 0., 0.],\n",
              "        ...,\n",
              "        [0., 0., 0., ..., 0., 0., 0.],\n",
              "        [0., 0., 0., ..., 0., 0., 0.],\n",
              "        [0., 0., 0., ..., 0., 0., 0.]]])"
            ]
          },
          "metadata": {
            "tags": []
          },
          "execution_count": 135
        }
      ]
    },
    {
      "cell_type": "markdown",
      "metadata": {
        "id": "9-kOP90d3Jnz"
      },
      "source": [
        "Listing 6.3 Using Keras for word-level one-hot encoding"
      ]
    },
    {
      "cell_type": "code",
      "metadata": {
        "colab": {
          "base_uri": "https://localhost:8080/"
        },
        "id": "9QwlfHfk3Klq",
        "outputId": "e4f02b88-3225-4010-f0bb-f79eb95b0b65"
      },
      "source": [
        "from keras.preprocessing.text import Tokenizer\n",
        "\n",
        "samples = ['The cat sat on the mat.', 'The dog ate my homework.']\n",
        "\n",
        "tokenizer = Tokenizer(num_words=1000)\n",
        "tokenizer.fit_on_texts(samples)\n",
        "\n",
        "sequences = tokenizer.texts_to_sequences(samples)\n",
        "\n",
        "one_hot_results = tokenizer.texts_to_matrix(samples, mode='binary')\n",
        "\n",
        "word_index = tokenizer.word_index\n",
        "print(f'Found {len(word_index)} unique tokens.')"
      ],
      "execution_count": null,
      "outputs": [
        {
          "output_type": "stream",
          "text": [
            "Found 9 unique tokens.\n"
          ],
          "name": "stdout"
        }
      ]
    },
    {
      "cell_type": "code",
      "metadata": {
        "colab": {
          "base_uri": "https://localhost:8080/"
        },
        "id": "m85f0U4g3Y1C",
        "outputId": "75f0e889-6cca-4eb1-cc81-84b7c5ab439c"
      },
      "source": [
        "word_index"
      ],
      "execution_count": null,
      "outputs": [
        {
          "output_type": "execute_result",
          "data": {
            "text/plain": [
              "{'ate': 7,\n",
              " 'cat': 2,\n",
              " 'dog': 6,\n",
              " 'homework': 9,\n",
              " 'mat': 5,\n",
              " 'my': 8,\n",
              " 'on': 4,\n",
              " 'sat': 3,\n",
              " 'the': 1}"
            ]
          },
          "metadata": {
            "tags": []
          },
          "execution_count": 26
        }
      ]
    },
    {
      "cell_type": "code",
      "metadata": {
        "colab": {
          "base_uri": "https://localhost:8080/"
        },
        "id": "r-69Bc246XLj",
        "outputId": "9d3bfc00-27f9-456d-cc6d-52afd514695a"
      },
      "source": [
        "sequences"
      ],
      "execution_count": null,
      "outputs": [
        {
          "output_type": "execute_result",
          "data": {
            "text/plain": [
              "[[1, 2, 3, 4, 1, 5], [1, 6, 7, 8, 9]]"
            ]
          },
          "metadata": {
            "tags": []
          },
          "execution_count": 19
        }
      ]
    },
    {
      "cell_type": "markdown",
      "metadata": {
        "id": "YGlEk-GN910j"
      },
      "source": [
        "Listing 6.4 Word-level one-hot encoding with hashing trick (toy example)"
      ]
    },
    {
      "cell_type": "code",
      "metadata": {
        "id": "rcTs50H294eK"
      },
      "source": [
        "import numpy as np\n",
        "\n",
        "samples = ['The cat sat on the mat.', 'The dog ate my homework.']\n",
        "\n",
        "dimensionality = 1000\n",
        "max_length = 10\n",
        "\n",
        "results = np.zeros((len(samples), max_length, dimensionality))\n",
        "\n",
        "for i, sample in enumerate(samples):\n",
        "    for j, word in list(enumerate(sample.split()))[:max_length]:\n",
        "        index = abs(hash(word)) % dimensionality\n",
        "        results[i, j, index] = 1."
      ],
      "execution_count": null,
      "outputs": []
    },
    {
      "cell_type": "code",
      "metadata": {
        "colab": {
          "base_uri": "https://localhost:8080/"
        },
        "id": "WdYfq3Ki-JuK",
        "outputId": "a61a9573-f625-4574-93f4-aa9492afe270"
      },
      "source": [
        "(results[0][2] == 1).sum()"
      ],
      "execution_count": null,
      "outputs": [
        {
          "output_type": "execute_result",
          "data": {
            "text/plain": [
              "1"
            ]
          },
          "metadata": {
            "tags": []
          },
          "execution_count": 41
        }
      ]
    },
    {
      "cell_type": "code",
      "metadata": {
        "colab": {
          "base_uri": "https://localhost:8080/"
        },
        "id": "JaiQgDpj-ow6",
        "outputId": "94bc73fa-12c6-4e5a-87c0-c70f46e6f434"
      },
      "source": [
        "hash('ali')"
      ],
      "execution_count": null,
      "outputs": [
        {
          "output_type": "execute_result",
          "data": {
            "text/plain": [
              "1642738669625639489"
            ]
          },
          "metadata": {
            "tags": []
          },
          "execution_count": 36
        }
      ]
    },
    {
      "cell_type": "markdown",
      "metadata": {
        "id": "0EZXJ1vjPua1"
      },
      "source": [
        "IMDB"
      ]
    },
    {
      "cell_type": "code",
      "metadata": {
        "id": "QjwpnbUePvuT"
      },
      "source": [
        "from keras.datasets import imdb\n",
        "from keras import preprocessing\n",
        "\n",
        "max_features = 10000\n",
        "maxlen = 20\n",
        "\n",
        "(x_train, y_train), (x_test, y_test) = imdb.load_data(num_words=max_features)\n",
        "\n"
      ],
      "execution_count": null,
      "outputs": []
    },
    {
      "cell_type": "code",
      "metadata": {
        "colab": {
          "base_uri": "https://localhost:8080/"
        },
        "id": "y64y6Qle4xLK",
        "outputId": "ebaa3195-e9e1-4d82-c37e-c9fb1f49a35b"
      },
      "source": [
        "len(x_train[0])"
      ],
      "execution_count": null,
      "outputs": [
        {
          "output_type": "execute_result",
          "data": {
            "text/plain": [
              "218"
            ]
          },
          "metadata": {
            "tags": []
          },
          "execution_count": 20
        }
      ]
    },
    {
      "cell_type": "code",
      "metadata": {
        "id": "8W0us2D5TuV7"
      },
      "source": [
        "x_train = preprocessing.sequence.pad_sequences(x_train, maxlen=maxlen)\n",
        "x_test = preprocessing.sequence.pad_sequences(x_test, maxlen=maxlen)"
      ],
      "execution_count": null,
      "outputs": []
    },
    {
      "cell_type": "code",
      "metadata": {
        "colab": {
          "base_uri": "https://localhost:8080/"
        },
        "id": "uRZ_1HRvROYM",
        "outputId": "6e74c3f9-c2f3-4f51-9e34-91db95b071ac"
      },
      "source": [
        "np.array(x_train).shape , np.array(x_test).shape"
      ],
      "execution_count": null,
      "outputs": [
        {
          "output_type": "execute_result",
          "data": {
            "text/plain": [
              "((25000, 20), (25000, 20))"
            ]
          },
          "metadata": {
            "tags": []
          },
          "execution_count": 69
        }
      ]
    },
    {
      "cell_type": "code",
      "metadata": {
        "colab": {
          "base_uri": "https://localhost:8080/"
        },
        "id": "5a4pfQJbgJ5U",
        "outputId": "78249c22-7aad-458c-e69e-91156a7af289"
      },
      "source": [
        "from keras.models import Sequential\n",
        "from keras.layers import Dense,Flatten,Embedding\n",
        "\n",
        "model = Sequential()\n",
        "model.add(Embedding( 10000, 8, input_length=maxlen))\n",
        "model.add(Flatten())\n",
        "model.add(Dense(1, activation='sigmoid'))\n",
        "\n",
        "model.summary()\n"
      ],
      "execution_count": null,
      "outputs": [
        {
          "output_type": "stream",
          "text": [
            "Model: \"sequential_2\"\n",
            "_________________________________________________________________\n",
            "Layer (type)                 Output Shape              Param #   \n",
            "=================================================================\n",
            "embedding_2 (Embedding)      (None, 20, 8)             80000     \n",
            "_________________________________________________________________\n",
            "flatten_2 (Flatten)          (None, 160)               0         \n",
            "_________________________________________________________________\n",
            "dense_3 (Dense)              (None, 1)                 161       \n",
            "=================================================================\n",
            "Total params: 80,161\n",
            "Trainable params: 80,161\n",
            "Non-trainable params: 0\n",
            "_________________________________________________________________\n"
          ],
          "name": "stdout"
        }
      ]
    },
    {
      "cell_type": "code",
      "metadata": {
        "id": "5aLQzHTshgDG"
      },
      "source": [
        "model.compile( optimizer='rmsprop', loss='binary_crossentropy', metrics=['acc'])"
      ],
      "execution_count": null,
      "outputs": []
    },
    {
      "cell_type": "code",
      "metadata": {
        "colab": {
          "base_uri": "https://localhost:8080/"
        },
        "id": "MhjVcrzEh5m0",
        "outputId": "807c2544-e8d0-4f29-a221-4ba0f2b1ac4a"
      },
      "source": [
        "history = model.fit(x_train, y_train, epochs=10, batch_size=32, validation_split=0.2)"
      ],
      "execution_count": null,
      "outputs": [
        {
          "output_type": "stream",
          "text": [
            "Epoch 1/10\n",
            "625/625 [==============================] - 2s 2ms/step - loss: 0.4484 - acc: 0.7937 - val_loss: 0.4947 - val_acc: 0.7496\n",
            "Epoch 2/10\n",
            "625/625 [==============================] - 1s 2ms/step - loss: 0.4140 - acc: 0.8147 - val_loss: 0.4920 - val_acc: 0.7534\n",
            "Epoch 3/10\n",
            "625/625 [==============================] - 1s 2ms/step - loss: 0.3946 - acc: 0.8243 - val_loss: 0.4930 - val_acc: 0.7580\n",
            "Epoch 4/10\n",
            "625/625 [==============================] - 1s 2ms/step - loss: 0.3657 - acc: 0.8379 - val_loss: 0.4963 - val_acc: 0.7548\n",
            "Epoch 5/10\n",
            "625/625 [==============================] - 1s 2ms/step - loss: 0.3503 - acc: 0.8522 - val_loss: 0.5011 - val_acc: 0.7556\n",
            "Epoch 6/10\n",
            "625/625 [==============================] - 1s 2ms/step - loss: 0.3372 - acc: 0.8622 - val_loss: 0.5083 - val_acc: 0.7532\n",
            "Epoch 7/10\n",
            "625/625 [==============================] - 1s 2ms/step - loss: 0.3163 - acc: 0.8661 - val_loss: 0.5155 - val_acc: 0.7502\n",
            "Epoch 8/10\n",
            "625/625 [==============================] - 1s 2ms/step - loss: 0.2977 - acc: 0.8783 - val_loss: 0.5236 - val_acc: 0.7484\n",
            "Epoch 9/10\n",
            "625/625 [==============================] - 1s 2ms/step - loss: 0.2819 - acc: 0.8871 - val_loss: 0.5324 - val_acc: 0.7460\n",
            "Epoch 10/10\n",
            "625/625 [==============================] - 1s 2ms/step - loss: 0.2647 - acc: 0.8969 - val_loss: 0.5410 - val_acc: 0.7460\n"
          ],
          "name": "stdout"
        }
      ]
    },
    {
      "cell_type": "code",
      "metadata": {
        "colab": {
          "base_uri": "https://localhost:8080/"
        },
        "id": "wkpMMmyJwIAL",
        "outputId": "d5004998-6652-4c8c-c4e0-65ca26a04243"
      },
      "source": [
        "test_1 = x_test[0]\n",
        "test_data = test_1.reshape(1,20)\n",
        "result = model.predict(test_data)\n",
        "result = np.round(result,3)\n",
        "result , y_test[0]"
      ],
      "execution_count": null,
      "outputs": [
        {
          "output_type": "execute_result",
          "data": {
            "text/plain": [
              "(array([[0.364]], dtype=float32), 0)"
            ]
          },
          "metadata": {
            "tags": []
          },
          "execution_count": 33
        }
      ]
    },
    {
      "cell_type": "code",
      "metadata": {
        "colab": {
          "base_uri": "https://localhost:8080/"
        },
        "id": "2akpZRM_jmfb",
        "outputId": "3e0363a5-f35a-4b93-ffd1-85a38d55425a"
      },
      "source": [
        "import numpy as np\n",
        "\n",
        "y = np.array([[[2,5],[3,7]], [[4,9],[5,10]]])\n",
        "out=y.flatten()\n",
        "# out , out.shape, y.shape\n",
        "x_train.shape"
      ],
      "execution_count": null,
      "outputs": [
        {
          "output_type": "execute_result",
          "data": {
            "text/plain": [
              "(25000, 20)"
            ]
          },
          "metadata": {
            "tags": []
          },
          "execution_count": 32
        }
      ]
    },
    {
      "cell_type": "code",
      "metadata": {
        "id": "UwDkoToRIv5a"
      },
      "source": [
        "Pretrainde emabedding"
      ],
      "execution_count": null,
      "outputs": []
    },
    {
      "cell_type": "code",
      "metadata": {
        "id": "z99ab8Kfp3_S"
      },
      "source": [
        "import os, shutil\n",
        "import cv2\n",
        "import glob\n",
        "import numpy as np\n",
        "import pandas as pd"
      ],
      "execution_count": null,
      "outputs": []
    },
    {
      "cell_type": "code",
      "metadata": {
        "colab": {
          "base_uri": "https://localhost:8080/"
        },
        "id": "6ZgC_zPjp_QM",
        "outputId": "0399a4cb-3d33-4cb9-e10c-4b50491a7d42"
      },
      "source": [
        "from google.colab import drive\n",
        "drive.mount('/content/gdrive')"
      ],
      "execution_count": null,
      "outputs": [
        {
          "output_type": "stream",
          "text": [
            "Mounted at /content/gdrive\n"
          ],
          "name": "stdout"
        }
      ]
    },
    {
      "cell_type": "code",
      "metadata": {
        "id": "yHlIACWGtCnK"
      },
      "source": [
        "import os\n",
        "os.environ['KAGGLE_CONFIG_DIR'] = \"/content/gdrive/My Drive/Kaggle\""
      ],
      "execution_count": null,
      "outputs": []
    },
    {
      "cell_type": "code",
      "metadata": {
        "id": "SsOjnJ7BtTpS",
        "colab": {
          "base_uri": "https://localhost:8080/"
        },
        "outputId": "ff34b46b-ad19-41e1-a69e-dd6812cf4364"
      },
      "source": [
        "!kaggle datasets download -d lakshmi25npathi/imdb-dataset-of-50k-movie-reviews"
      ],
      "execution_count": null,
      "outputs": [
        {
          "output_type": "stream",
          "text": [
            "Downloading imdb-dataset-of-50k-movie-reviews.zip to /content\n",
            "\r  0% 0.00/25.7M [00:00<?, ?B/s]\r 70% 18.0M/25.7M [00:00<00:00, 185MB/s]\n",
            "\r100% 25.7M/25.7M [00:00<00:00, 163MB/s]\n"
          ],
          "name": "stdout"
        }
      ]
    },
    {
      "cell_type": "code",
      "metadata": {
        "id": "V4YmhHgd5NPt",
        "colab": {
          "base_uri": "https://localhost:8080/"
        },
        "outputId": "ab0f1a2b-9d28-41c8-95e0-320dca9fde40"
      },
      "source": [
        "!unzip \"/content/glove.6B.zip\""
      ],
      "execution_count": null,
      "outputs": [
        {
          "output_type": "stream",
          "text": [
            "Archive:  /content/glove.6B.zip\n",
            "  inflating: glove.6B.50d.txt        \n",
            "  inflating: glove.6B.100d.txt       \n",
            "  inflating: glove.6B.200d.txt       \n",
            "  inflating: glove.6B.300d.txt       \n"
          ],
          "name": "stdout"
        }
      ]
    },
    {
      "cell_type": "code",
      "metadata": {
        "id": "tjNhdvJ8JkAR"
      },
      "source": [
        "data = pd.read_csv('/content/IMDB Dataset.csv')\n",
        "# data.head()\n",
        "texts = list(data['review'])\n",
        "sentiment = list(data['sentiment'])\n",
        "labels = []\n",
        "for i,label in enumerate(sentiment):\n",
        "  if label == 'positive':\n",
        "     labels.insert(i,1)\n",
        "  else:\n",
        "     labels.insert(i,0)\n",
        "\n",
        "labels = np.array(labels)"
      ],
      "execution_count": null,
      "outputs": []
    },
    {
      "cell_type": "code",
      "metadata": {
        "id": "BMssuJuRRmIK"
      },
      "source": [
        "from keras.preprocessing.text import Tokenizer\n",
        "from keras.preprocessing.sequence import pad_sequences\n",
        "\n",
        "maxlen = 100\n",
        "training_samples = 200\n",
        "validation_samples = 10000\n",
        "max_words = 10000\n",
        "\n",
        "tokenizer = Tokenizer(num_words=max_words)\n",
        "tokenizer.fit_on_texts(texts)\n",
        "sequences = tokenizer.texts_to_sequences(texts)"
      ],
      "execution_count": null,
      "outputs": []
    },
    {
      "cell_type": "code",
      "metadata": {
        "colab": {
          "base_uri": "https://localhost:8080/"
        },
        "id": "ypfJZrv0UZtj",
        "outputId": "88a40bdf-5780-4c05-e6bf-f65d0d22171b"
      },
      "source": [
        "word_index = tokenizer.word_index\n",
        "data = pad_sequences(sequences,maxlen=maxlen)\n",
        "data.shape[0] , labels.shape"
      ],
      "execution_count": null,
      "outputs": [
        {
          "output_type": "execute_result",
          "data": {
            "text/plain": [
              "(50000, (50000,))"
            ]
          },
          "metadata": {
            "tags": []
          },
          "execution_count": 8
        }
      ]
    },
    {
      "cell_type": "code",
      "metadata": {
        "id": "7wCeH47caETp"
      },
      "source": [
        "indices = np.arange(data.shape[0])\n",
        "np.random.shuffle(indices)\n",
        "data = data[indices]\n",
        "labels = labels[indices]\n"
      ],
      "execution_count": null,
      "outputs": []
    },
    {
      "cell_type": "code",
      "metadata": {
        "id": "SrF0tErocEOi"
      },
      "source": [
        "x_train = data[:training_samples]\n",
        "y_train = labels[:training_samples]\n",
        "x_val = data[training_samples:training_samples+validation_samples]\n",
        "y_val = labels[training_samples:training_samples+validation_samples]\n"
      ],
      "execution_count": null,
      "outputs": []
    },
    {
      "cell_type": "code",
      "metadata": {
        "id": "aK-0pWBrKAGa"
      },
      "source": [
        "reverse_word_map = dict(map(reversed, tokenizer.word_index.items()))\n"
      ],
      "execution_count": null,
      "outputs": []
    },
    {
      "cell_type": "code",
      "metadata": {
        "id": "4RLDlrNILFta"
      },
      "source": [
        "reverse_word_map"
      ],
      "execution_count": null,
      "outputs": []
    },
    {
      "cell_type": "code",
      "metadata": {
        "id": "wy3ZEt4qLdkK"
      },
      "source": [
        "sentence = {}\n",
        "for i, word in reverse_word_map.items():\n",
        "    if i in x_val[0]:\n",
        "      sentence[i] = word"
      ],
      "execution_count": null,
      "outputs": []
    },
    {
      "cell_type": "code",
      "metadata": {
        "colab": {
          "base_uri": "https://localhost:8080/"
        },
        "id": "oASjjOoQMGop",
        "outputId": "a42fd747-0a54-4c8f-d29f-9a201ac6f14a"
      },
      "source": [
        "y_val[0]"
      ],
      "execution_count": null,
      "outputs": [
        {
          "output_type": "execute_result",
          "data": {
            "text/plain": [
              "0"
            ]
          },
          "metadata": {
            "tags": []
          },
          "execution_count": 33
        }
      ]
    },
    {
      "cell_type": "markdown",
      "metadata": {
        "id": "acydvcUed66z"
      },
      "source": [
        "Use Glove"
      ]
    },
    {
      "cell_type": "code",
      "metadata": {
        "id": "KsQ7XyDtd80T",
        "colab": {
          "base_uri": "https://localhost:8080/"
        },
        "outputId": "d48ccbd8-60bf-4db6-8a75-1ecf949dd50b"
      },
      "source": [
        "!wget http://nlp.stanford.edu/data/glove.6B.zip"
      ],
      "execution_count": null,
      "outputs": [
        {
          "output_type": "stream",
          "text": [
            "--2021-03-31 07:11:33--  http://nlp.stanford.edu/data/glove.6B.zip\n",
            "Resolving nlp.stanford.edu (nlp.stanford.edu)... 171.64.67.140\n",
            "Connecting to nlp.stanford.edu (nlp.stanford.edu)|171.64.67.140|:80... connected.\n",
            "HTTP request sent, awaiting response... 302 Found\n",
            "Location: https://nlp.stanford.edu/data/glove.6B.zip [following]\n",
            "--2021-03-31 07:11:33--  https://nlp.stanford.edu/data/glove.6B.zip\n",
            "Connecting to nlp.stanford.edu (nlp.stanford.edu)|171.64.67.140|:443... connected.\n",
            "HTTP request sent, awaiting response... 301 Moved Permanently\n",
            "Location: http://downloads.cs.stanford.edu/nlp/data/glove.6B.zip [following]\n",
            "--2021-03-31 07:11:33--  http://downloads.cs.stanford.edu/nlp/data/glove.6B.zip\n",
            "Resolving downloads.cs.stanford.edu (downloads.cs.stanford.edu)... 171.64.64.22\n",
            "Connecting to downloads.cs.stanford.edu (downloads.cs.stanford.edu)|171.64.64.22|:80... connected.\n",
            "HTTP request sent, awaiting response... 200 OK\n",
            "Length: 862182613 (822M) [application/zip]\n",
            "Saving to: ‘glove.6B.zip’\n",
            "\n",
            "glove.6B.zip        100%[===================>] 822.24M  4.98MB/s    in 2m 45s  \n",
            "\n",
            "2021-03-31 07:14:19 (4.98 MB/s) - ‘glove.6B.zip’ saved [862182613/862182613]\n",
            "\n"
          ],
          "name": "stdout"
        }
      ]
    },
    {
      "cell_type": "code",
      "metadata": {
        "colab": {
          "base_uri": "https://localhost:8080/"
        },
        "id": "SDVqsDb02J4j",
        "outputId": "cd426450-592c-4142-969c-e20c48f75930"
      },
      "source": [
        "embeddings_index = {}\n",
        "f = open(os.path.join('/content/glove.6B.100d.txt'))\n",
        "for line in f:\n",
        "  values = line.split()\n",
        "  word = values[0]\n",
        "  coefs = np.asarray(values[1:], dtype='float32')\n",
        "  embeddings_index[word] = coefs\n",
        "f.close()\n",
        "print('Found %s word vectors.' % len(embeddings_index))"
      ],
      "execution_count": null,
      "outputs": [
        {
          "output_type": "stream",
          "text": [
            "Found 400000 word vectors.\n"
          ],
          "name": "stdout"
        }
      ]
    },
    {
      "cell_type": "code",
      "metadata": {
        "id": "xJEh6X202fds"
      },
      "source": [
        "embedding_dim = 100\n",
        "\n",
        "embedding_matrix = np.zeros((max_words,embedding_dim))\n",
        "\n",
        "for word, i in word_index.items():\n",
        "  if i < max_words:\n",
        "    embedding_vector = embeddings_index.get(word)\n",
        "    if embedding_vector is not None:\n",
        "      embedding_matrix[i] = embedding_vector"
      ],
      "execution_count": null,
      "outputs": []
    },
    {
      "cell_type": "code",
      "metadata": {
        "colab": {
          "base_uri": "https://localhost:8080/"
        },
        "id": "e74MCo6J9CAR",
        "outputId": "b90e2d42-abb8-4009-b10d-e4caca3b3d57"
      },
      "source": [
        "len(embedding_matrix)"
      ],
      "execution_count": null,
      "outputs": [
        {
          "output_type": "execute_result",
          "data": {
            "text/plain": [
              "10000"
            ]
          },
          "metadata": {
            "tags": []
          },
          "execution_count": 15
        }
      ]
    },
    {
      "cell_type": "code",
      "metadata": {
        "colab": {
          "base_uri": "https://localhost:8080/"
        },
        "id": "DcjjGDxXFCx1",
        "outputId": "2ef2a52c-4486-48c7-faf7-e89e81ae62ae"
      },
      "source": [
        "from keras.models import Sequential\n",
        "from keras.layers import Dense,Flatten,Embedding\n",
        "\n",
        "model = Sequential()\n",
        "model.add(Embedding( max_words, 100, input_length=maxlen))\n",
        "model.add(Flatten())\n",
        "model.add(Dense(32, activation='relu'))\n",
        "model.add(Dense(1, activation='sigmoid'))\n",
        "\n",
        "model.summary()"
      ],
      "execution_count": null,
      "outputs": [
        {
          "output_type": "stream",
          "text": [
            "Model: \"sequential\"\n",
            "_________________________________________________________________\n",
            "Layer (type)                 Output Shape              Param #   \n",
            "=================================================================\n",
            "embedding (Embedding)        (None, 100, 100)          1000000   \n",
            "_________________________________________________________________\n",
            "flatten (Flatten)            (None, 10000)             0         \n",
            "_________________________________________________________________\n",
            "dense (Dense)                (None, 32)                320032    \n",
            "_________________________________________________________________\n",
            "dense_1 (Dense)              (None, 1)                 33        \n",
            "=================================================================\n",
            "Total params: 1,320,065\n",
            "Trainable params: 1,320,065\n",
            "Non-trainable params: 0\n",
            "_________________________________________________________________\n"
          ],
          "name": "stdout"
        }
      ]
    },
    {
      "cell_type": "code",
      "metadata": {
        "id": "16D0IPMeAVq7"
      },
      "source": [
        "model.layers[0].set_weights([embedding_matrix])\n",
        "model.layers[0].trainable = False"
      ],
      "execution_count": null,
      "outputs": []
    },
    {
      "cell_type": "code",
      "metadata": {
        "id": "DFzRdWUPBF0S"
      },
      "source": [
        "model.compile( loss='binary_crossentropy', optimizer='rmsprop', metrics=['acc'])"
      ],
      "execution_count": null,
      "outputs": []
    },
    {
      "cell_type": "code",
      "metadata": {
        "colab": {
          "base_uri": "https://localhost:8080/"
        },
        "id": "F0RdKmcgBRpZ",
        "outputId": "051c58c4-440e-48bd-a588-9ddb3eec3ec8"
      },
      "source": [
        "history = model.fit(x_train, y_train, epochs=10, batch_size=32, validation_data=(x_val, y_val))"
      ],
      "execution_count": null,
      "outputs": [
        {
          "output_type": "stream",
          "text": [
            "Epoch 1/10\n",
            "7/7 [==============================] - 2s 159ms/step - loss: 1.9866 - acc: 0.4953 - val_loss: 0.7862 - val_acc: 0.4986\n",
            "Epoch 2/10\n",
            "7/7 [==============================] - 1s 93ms/step - loss: 0.6081 - acc: 0.5768 - val_loss: 0.6856 - val_acc: 0.5550\n",
            "Epoch 3/10\n",
            "7/7 [==============================] - 1s 94ms/step - loss: 0.4564 - acc: 0.8526 - val_loss: 1.2432 - val_acc: 0.5018\n",
            "Epoch 4/10\n",
            "7/7 [==============================] - 1s 93ms/step - loss: 0.5132 - acc: 0.7797 - val_loss: 0.6899 - val_acc: 0.5563\n",
            "Epoch 5/10\n",
            "7/7 [==============================] - 1s 94ms/step - loss: 0.2115 - acc: 0.9886 - val_loss: 0.8165 - val_acc: 0.5173\n",
            "Epoch 6/10\n",
            "7/7 [==============================] - 1s 91ms/step - loss: 0.1882 - acc: 0.9642 - val_loss: 1.3293 - val_acc: 0.5023\n",
            "Epoch 7/10\n",
            "7/7 [==============================] - 1s 92ms/step - loss: 0.1916 - acc: 0.9134 - val_loss: 0.7430 - val_acc: 0.5603\n",
            "Epoch 8/10\n",
            "7/7 [==============================] - 1s 93ms/step - loss: 0.0753 - acc: 1.0000 - val_loss: 0.7309 - val_acc: 0.5625\n",
            "Epoch 9/10\n",
            "7/7 [==============================] - 1s 93ms/step - loss: 0.0514 - acc: 1.0000 - val_loss: 2.0889 - val_acc: 0.4984\n",
            "Epoch 10/10\n",
            "7/7 [==============================] - 1s 90ms/step - loss: 0.3714 - acc: 0.7773 - val_loss: 0.8318 - val_acc: 0.5450\n"
          ],
          "name": "stdout"
        }
      ]
    },
    {
      "cell_type": "code",
      "metadata": {
        "colab": {
          "base_uri": "https://localhost:8080/",
          "height": 513
        },
        "id": "8IymdzDXE6Uj",
        "outputId": "346b3a07-e138-48de-c5bf-883983e61a53"
      },
      "source": [
        "import matplotlib.pyplot as plt\n",
        "\n",
        "plt.plot(history.history['acc'])\n",
        "plt.plot(history.history['val_acc'])\n",
        "plt.show()\n",
        "\n",
        "plt.plot(history.history['loss'])\n",
        "plt.plot(history.history['val_loss'])\n",
        "plt.show()"
      ],
      "execution_count": null,
      "outputs": [
        {
          "output_type": "display_data",
          "data": {
            "image/png": "[encoded data removed]",
            "text/plain": [
              "<Figure size 432x288 with 1 Axes>"
            ]
          },
          "metadata": {
            "tags": [],
            "needs_background": "light"
          }
        },
        {
          "output_type": "display_data",
          "data": {
            "image/png": "[encoded data removed]",
            "text/plain": [
              "<Figure size 432x288 with 1 Axes>"
            ]
          },
          "metadata": {
            "tags": [],
            "needs_background": "light"
          }
        }
      ]
    },
    {
      "cell_type": "markdown",
      "metadata": {
        "id": "FUu7u1WDb36T"
      },
      "source": [
        "The Recurent Neural Network"
      ]
    },
    {
      "cell_type": "code",
      "metadata": {
        "id": "W7G-U7oib7iL"
      },
      "source": [
        "from keras.models import Sequential\n",
        "from keras.layers import Embedding, SimpleRNN, Dense,LSTM, Conv1D, MaxPooling1D, GlobalMaxPooling1D\n",
        "from keras.datasets import imdb\n",
        "from keras.preprocessing import sequence\n"
      ],
      "execution_count": null,
      "outputs": []
    },
    {
      "cell_type": "code",
      "metadata": {
        "id": "j1vxAoOzj_Gx"
      },
      "source": [
        "max_features = 10000\n",
        "maxlen = 500\n",
        "batch_size = 32\n",
        "\n",
        "(input_train, y_train),(input_test, y_test) = imdb.load_data(num_words=max_features)"
      ],
      "execution_count": null,
      "outputs": []
    },
    {
      "cell_type": "code",
      "metadata": {
        "id": "SAv_3wjIjj5T"
      },
      "source": [
        "input_train = sequence.pad_sequences(input_train, maxlen=maxlen)\n",
        "input_test = sequence.pad_sequences(input_test, maxlen=maxlen)\n"
      ],
      "execution_count": null,
      "outputs": []
    },
    {
      "cell_type": "code",
      "metadata": {
        "id": "t73tnCy_jm_U"
      },
      "source": [
        "model = Sequential()\n",
        "model.add(Embedding(10000,32))\n",
        "model.add(SimpleRNN(32))\n",
        "model.add(Dense(1 , activation='sigmoid'))"
      ],
      "execution_count": null,
      "outputs": []
    },
    {
      "cell_type": "code",
      "metadata": {
        "id": "aZdKOD16khWa"
      },
      "source": [
        "model.compile( loss='binary_crossentropy', optimizer='rmsprop', metrics=['acc'])"
      ],
      "execution_count": null,
      "outputs": []
    },
    {
      "cell_type": "code",
      "metadata": {
        "colab": {
          "base_uri": "https://localhost:8080/"
        },
        "id": "GQcOqRgxkyKj",
        "outputId": "dd3d1f91-f482-4f42-f251-8555bd9f6d05"
      },
      "source": [
        "history = model.fit( input_train, y_train, batch_size=32, epochs=10, validation_split=0.2)"
      ],
      "execution_count": null,
      "outputs": [
        {
          "output_type": "stream",
          "text": [
            "Epoch 1/10\n",
            "625/625 [==============================] - 56s 87ms/step - loss: 0.6076 - acc: 0.6433 - val_loss: 0.4968 - val_acc: 0.7676\n",
            "Epoch 2/10\n",
            "625/625 [==============================] - 54s 87ms/step - loss: 0.3283 - acc: 0.8659 - val_loss: 0.3452 - val_acc: 0.8640\n",
            "Epoch 3/10\n",
            "625/625 [==============================] - 54s 86ms/step - loss: 0.2575 - acc: 0.9019 - val_loss: 0.3594 - val_acc: 0.8476\n",
            "Epoch 4/10\n",
            "625/625 [==============================] - 54s 87ms/step - loss: 0.2081 - acc: 0.9239 - val_loss: 0.3387 - val_acc: 0.8734\n",
            "Epoch 5/10\n",
            "625/625 [==============================] - 54s 86ms/step - loss: 0.1952 - acc: 0.9296 - val_loss: 0.3454 - val_acc: 0.8552\n",
            "Epoch 6/10\n",
            "625/625 [==============================] - 53s 85ms/step - loss: 0.1447 - acc: 0.9486 - val_loss: 0.3804 - val_acc: 0.8580\n",
            "Epoch 7/10\n",
            "625/625 [==============================] - 53s 85ms/step - loss: 0.1332 - acc: 0.9535 - val_loss: 0.4465 - val_acc: 0.8600\n",
            "Epoch 8/10\n",
            "625/625 [==============================] - 53s 85ms/step - loss: 0.0984 - acc: 0.9628 - val_loss: 0.4849 - val_acc: 0.8140\n",
            "Epoch 9/10\n",
            "625/625 [==============================] - 53s 85ms/step - loss: 0.0812 - acc: 0.9720 - val_loss: 0.5231 - val_acc: 0.8212\n",
            "Epoch 10/10\n",
            "625/625 [==============================] - 54s 86ms/step - loss: 0.0731 - acc: 0.9751 - val_loss: 0.5248 - val_acc: 0.8296\n"
          ],
          "name": "stdout"
        }
      ]
    },
    {
      "cell_type": "code",
      "metadata": {
        "colab": {
          "base_uri": "https://localhost:8080/",
          "height": 513
        },
        "id": "TVy-FZuGKcQu",
        "outputId": "0f717ffa-ad15-4f75-cc22-719231f76d94"
      },
      "source": [
        "import matplotlib.pyplot as plt\n",
        "\n",
        "plt.plot(history.history['acc'])\n",
        "plt.plot(history.history['val_acc'])\n",
        "plt.show()\n",
        "\n",
        "plt.plot(history.history['loss'])\n",
        "plt.plot(history.history['val_loss'])\n",
        "plt.show()"
      ],
      "execution_count": null,
      "outputs": [
        {
          "output_type": "display_data",
          "data": {
            "image/png": "[encoded data removed]",
            "text/plain": [
              "<Figure size 432x288 with 1 Axes>"
            ]
          },
          "metadata": {
            "tags": [],
            "needs_background": "light"
          }
        },
        {
          "output_type": "display_data",
          "data": {
            "image/png": "[encoded data removed]",
            "text/plain": [
              "<Figure size 432x288 with 1 Axes>"
            ]
          },
          "metadata": {
            "tags": [],
            "needs_background": "light"
          }
        }
      ]
    },
    {
      "cell_type": "markdown",
      "metadata": {
        "id": "K0ZpLMsRNPpA"
      },
      "source": [
        "LSTM"
      ]
    },
    {
      "cell_type": "code",
      "metadata": {
        "id": "leP7J2kfNNPn"
      },
      "source": [
        "model = Sequential()\n",
        "model.add(Embedding(10000,32))\n",
        "model.add(LSTM(32))\n",
        "model.add(Dense(1 , activation='sigmoid'))"
      ],
      "execution_count": null,
      "outputs": []
    },
    {
      "cell_type": "code",
      "metadata": {
        "id": "PNjXaO7-NbQA"
      },
      "source": [
        "model.compile( loss='binary_crossentropy', optimizer='rmsprop', metrics=['acc'])"
      ],
      "execution_count": null,
      "outputs": []
    },
    {
      "cell_type": "code",
      "metadata": {
        "colab": {
          "base_uri": "https://localhost:8080/"
        },
        "id": "1112B5aGNeML",
        "outputId": "94aa9b41-8f60-4562-a554-2c1df9a2c879"
      },
      "source": [
        "history = model.fit( input_train, y_train, batch_size=32, epochs=10, validation_split=0.2)"
      ],
      "execution_count": null,
      "outputs": [
        {
          "output_type": "stream",
          "text": [
            "Epoch 1/10\n",
            "625/625 [==============================] - 87s 137ms/step - loss: 0.5282 - acc: 0.7184 - val_loss: 0.2926 - val_acc: 0.8804\n",
            "Epoch 2/10\n",
            "625/625 [==============================] - 86s 137ms/step - loss: 0.2652 - acc: 0.8964 - val_loss: 0.3026 - val_acc: 0.8818\n",
            "Epoch 3/10\n",
            "625/625 [==============================] - 85s 137ms/step - loss: 0.2132 - acc: 0.9188 - val_loss: 0.2854 - val_acc: 0.8824\n",
            "Epoch 4/10\n",
            "625/625 [==============================] - 85s 135ms/step - loss: 0.1916 - acc: 0.9303 - val_loss: 0.2877 - val_acc: 0.8914\n",
            "Epoch 5/10\n",
            "625/625 [==============================] - 84s 135ms/step - loss: 0.1743 - acc: 0.9380 - val_loss: 0.3049 - val_acc: 0.8888\n",
            "Epoch 6/10\n",
            "625/625 [==============================] - 85s 136ms/step - loss: 0.1528 - acc: 0.9454 - val_loss: 0.2845 - val_acc: 0.8832\n",
            "Epoch 7/10\n",
            "625/625 [==============================] - 85s 136ms/step - loss: 0.1543 - acc: 0.9440 - val_loss: 0.2873 - val_acc: 0.8906\n",
            "Epoch 8/10\n",
            "625/625 [==============================] - 85s 136ms/step - loss: 0.1340 - acc: 0.9514 - val_loss: 0.3108 - val_acc: 0.8924\n",
            "Epoch 9/10\n",
            "625/625 [==============================] - 86s 137ms/step - loss: 0.1278 - acc: 0.9560 - val_loss: 0.3043 - val_acc: 0.8904\n",
            "Epoch 10/10\n",
            "625/625 [==============================] - 86s 137ms/step - loss: 0.1215 - acc: 0.9596 - val_loss: 0.3123 - val_acc: 0.8938\n"
          ],
          "name": "stdout"
        }
      ]
    },
    {
      "cell_type": "code",
      "metadata": {
        "colab": {
          "base_uri": "https://localhost:8080/",
          "height": 513
        },
        "id": "wUKS0-gdNg7s",
        "outputId": "cca1d60f-b03f-40e0-c37d-2733bf4fd8ce"
      },
      "source": [
        "import matplotlib.pyplot as plt\n",
        "\n",
        "plt.plot(history.history['acc'])\n",
        "plt.plot(history.history['val_acc'])\n",
        "plt.show()\n",
        "\n",
        "plt.plot(history.history['loss'])\n",
        "plt.plot(history.history['val_loss'])\n",
        "plt.show()"
      ],
      "execution_count": null,
      "outputs": [
        {
          "output_type": "display_data",
          "data": {
            "image/png": "[encoded data removed]",
            "text/plain": [
              "<Figure size 432x288 with 1 Axes>"
            ]
          },
          "metadata": {
            "tags": [],
            "needs_background": "light"
          }
        },
        {
          "output_type": "display_data",
          "data": {
            "image/png": "[encoded data removed]",
            "text/plain": [
              "<Figure size 432x288 with 1 Axes>"
            ]
          },
          "metadata": {
            "tags": [],
            "needs_background": "light"
          }
        }
      ]
    },
    {
      "cell_type": "markdown",
      "metadata": {
        "id": "LynG5_184JEd"
      },
      "source": [
        "Conv1D on IMDB"
      ]
    },
    {
      "cell_type": "code",
      "metadata": {
        "colab": {
          "base_uri": "https://localhost:8080/"
        },
        "id": "zSQpYDbRvYd4",
        "outputId": "16481eaf-e0fc-4201-85da-5a5728c9de06"
      },
      "source": [
        "model = Sequential()\n",
        "model.add(Embedding(max_features,128))\n",
        "model.add(Conv1D(32,7, activation='relu'))\n",
        "model.add(MaxPooling1D(5))\n",
        "model.add(Conv1D(32,7, activation='relu'))\n",
        "model.add(GlobalMaxPooling1D())\n",
        "model.add(Dense(1 , activation='sigmoid'))\n",
        "\n",
        "model.summary()"
      ],
      "execution_count": null,
      "outputs": [
        {
          "output_type": "stream",
          "text": [
            "Model: \"sequential_3\"\n",
            "_________________________________________________________________\n",
            "Layer (type)                 Output Shape              Param #   \n",
            "=================================================================\n",
            "embedding_3 (Embedding)      (None, None, 128)         1280000   \n",
            "_________________________________________________________________\n",
            "conv1d_6 (Conv1D)            (None, None, 32)          28704     \n",
            "_________________________________________________________________\n",
            "max_pooling1d_3 (MaxPooling1 (None, None, 32)          0         \n",
            "_________________________________________________________________\n",
            "conv1d_7 (Conv1D)            (None, None, 32)          7200      \n",
            "_________________________________________________________________\n",
            "global_max_pooling1d_3 (Glob (None, 32)                0         \n",
            "_________________________________________________________________\n",
            "dense_3 (Dense)              (None, 1)                 33        \n",
            "=================================================================\n",
            "Total params: 1,315,937\n",
            "Trainable params: 1,315,937\n",
            "Non-trainable params: 0\n",
            "_________________________________________________________________\n"
          ],
          "name": "stdout"
        }
      ]
    },
    {
      "cell_type": "code",
      "metadata": {
        "id": "j32NH3ynxgMX"
      },
      "source": [
        "model.compile( loss='binary_crossentropy', optimizer='rmsprop', metrics=['acc'])"
      ],
      "execution_count": null,
      "outputs": []
    },
    {
      "cell_type": "code",
      "metadata": {
        "colab": {
          "base_uri": "https://localhost:8080/"
        },
        "id": "Elv8xpTIxy0P",
        "outputId": "d321523b-05ca-44de-89ca-6f96b94164ec"
      },
      "source": [
        "history = model.fit( input_train, y_train, epochs=10, batch_size=128, validation_split=0.2)"
      ],
      "execution_count": null,
      "outputs": [
        {
          "output_type": "stream",
          "text": [
            "Epoch 1/10\n",
            "157/157 [==============================] - 9s 54ms/step - loss: 0.6230 - acc: 0.6256 - val_loss: 0.3296 - val_acc: 0.8616\n",
            "Epoch 2/10\n",
            "157/157 [==============================] - 8s 51ms/step - loss: 0.2711 - acc: 0.8933 - val_loss: 0.2954 - val_acc: 0.8792\n",
            "Epoch 3/10\n",
            "157/157 [==============================] - 8s 51ms/step - loss: 0.1964 - acc: 0.9277 - val_loss: 0.2977 - val_acc: 0.8794\n",
            "Epoch 4/10\n",
            "157/157 [==============================] - 8s 50ms/step - loss: 0.1443 - acc: 0.9501 - val_loss: 0.3401 - val_acc: 0.8698\n",
            "Epoch 5/10\n",
            "157/157 [==============================] - 8s 50ms/step - loss: 0.1035 - acc: 0.9658 - val_loss: 0.3511 - val_acc: 0.8778\n",
            "Epoch 6/10\n",
            "157/157 [==============================] - 8s 49ms/step - loss: 0.0684 - acc: 0.9779 - val_loss: 0.4315 - val_acc: 0.8670\n",
            "Epoch 7/10\n",
            "157/157 [==============================] - 8s 48ms/step - loss: 0.0394 - acc: 0.9896 - val_loss: 0.4437 - val_acc: 0.8764\n",
            "Epoch 8/10\n",
            "157/157 [==============================] - 7s 48ms/step - loss: 0.0209 - acc: 0.9958 - val_loss: 0.4816 - val_acc: 0.8768\n",
            "Epoch 9/10\n",
            "157/157 [==============================] - 8s 48ms/step - loss: 0.0101 - acc: 0.9978 - val_loss: 0.5312 - val_acc: 0.8700\n",
            "Epoch 10/10\n",
            "157/157 [==============================] - 8s 49ms/step - loss: 0.0045 - acc: 0.9994 - val_loss: 0.6512 - val_acc: 0.8724\n"
          ],
          "name": "stdout"
        }
      ]
    },
    {
      "cell_type": "code",
      "metadata": {
        "colab": {
          "base_uri": "https://localhost:8080/",
          "height": 513
        },
        "id": "T5zCiUxW0kdI",
        "outputId": "4d3718ae-a0fe-4b71-ce3d-f7617c5631f1"
      },
      "source": [
        "import matplotlib.pyplot as plt\n",
        "\n",
        "plt.plot(history.history['acc'])\n",
        "plt.plot(history.history['val_acc'])\n",
        "plt.show()\n",
        "\n",
        "plt.plot(history.history['loss'])\n",
        "plt.plot(history.history['val_loss'])\n",
        "plt.show()"
      ],
      "execution_count": null,
      "outputs": [
        {
          "output_type": "display_data",
          "data": {
            "image/png": "[encoded data removed]",
            "text/plain": [
              "<Figure size 432x288 with 1 Axes>"
            ]
          },
          "metadata": {
            "tags": [],
            "needs_background": "light"
          }
        },
        {
          "output_type": "display_data",
          "data": {
            "image/png": "[encoded data removed]",
            "text/plain": [
              "<Figure size 432x288 with 1 Axes>"
            ]
          },
          "metadata": {
            "tags": [],
            "needs_background": "light"
          }
        }
      ]
    }
  ]
}